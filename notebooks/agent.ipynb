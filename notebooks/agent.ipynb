{
 "cells": [
  {
   "cell_type": "code",
   "execution_count": 2,
   "metadata": {},
   "outputs": [],
   "source": [
    "import json"
   ]
  },
  {
   "cell_type": "code",
   "execution_count": 19,
   "metadata": {},
   "outputs": [],
   "source": [
    "import json\n",
    "from openai import OpenAI\n",
    "\n",
    "\n",
    "def invoke_llm(messages, cloud=\"sambanova\", temperature=0.7):\n",
    "\n",
    "    if cloud==\"openai\":\n",
    "        api_key = \"COYA AND FY\"\n",
    "        model = \"gpt-4o-mini\"\n",
    "    elif cloud==\"sambanova\":\n",
    "        model='Meta-Llama-3.1-70B-Instruct'\n",
    "        api_key=\"f10708c4-f9dc-499c-b90f-eeec5c17e630\"\n",
    "        base_url=\"https://api.sambanova.ai/v1\"\n",
    "\n",
    "    client = OpenAI(\n",
    "        api_key=api_key,\n",
    "        base_url=base_url,\n",
    "    )\n",
    "    output = client.chat.completions.create(\n",
    "                model = model,\n",
    "                messages = messages, temperature=temperature, max_tokens = 1000, top_p=0.9, stream = False,\n",
    "            )\n",
    "\n",
    "    response = output.choices[0].message.content\n",
    "\n",
    "    return response\n"
   ]
  },
  {
   "cell_type": "code",
   "execution_count": 3,
   "metadata": {},
   "outputs": [],
   "source": [
    "with open(\"/Users/rahul.kumar23/Drive/outcomes-ai-assignment/patients/patient_2.json\", 'r') as f:\n",
    "    data = json.load(f)\n",
    "\n",
    "physician_instructions_prompt = \"give me recent diagnosis and test results\"\n",
    "patient_json_data = data"
   ]
  },
  {
   "cell_type": "code",
   "execution_count": 16,
   "metadata": {},
   "outputs": [],
   "source": [
    "system_prompt = \"You are a highly skilled medical assistant specializing in analyzing and summarizing patient records for physicians. Your task is to accurately extract and summarize important clinical information from the given patient details.\"\n",
    "user_prompt = \"\"\"Patient Historical Details\n",
    "{patient_json_data}\n",
    "\n",
    "\n",
    "Requirements:\n",
    "Extract key clinical information such as:\n",
    "\n",
    "Medical history\n",
    "Recent test results\n",
    "Medication changes\n",
    "Potential areas of concern\n",
    "Generate a summary that adheres to the physician’s requested structure and format.\n",
    "\n",
    "Respond to any specific queries asked by the physician regarding the patient's details or medical history.\n",
    "\n",
    "Be precise, concise, and factual. If you cannot find the requested information in the patient details, clearly state this.\n",
    "\n",
    "{physician_instructions_prompt}\n",
    "\n",
    "\"\"\"\n"
   ]
  },
  {
   "cell_type": "code",
   "execution_count": 20,
   "metadata": {},
   "outputs": [],
   "source": [
    "def charting_agent(physician_instructions_prompt):\n",
    "    messages = [\n",
    "                {\n",
    "                    \"role\": \"system\",\n",
    "                    \"content\": system_prompt\n",
    "                },\n",
    "                {\n",
    "                    \"role\":\"user\",\n",
    "                    \"content\" : user_prompt.format(patient_json_data=patient_json_data,\n",
    "                                                   physician_instructions_prompt=physician_instructions_prompt)\n",
    "                }\n",
    "                    ]\n",
    "    response = invoke_llm(messages)\n",
    "    return response"
   ]
  },
  {
   "cell_type": "code",
   "execution_count": 23,
   "metadata": {},
   "outputs": [
    {
     "name": "stdout",
     "output_type": "stream",
     "text": [
      "Based on the provided patient details, here are the past test results:\n",
      "\n",
      "1. **Chest X-ray** (2020-03-15):\n",
      "   - Result: No abnormalities detected.\n",
      "   - Category: Radiology\n",
      "   - Code: 71045-1\n",
      "   - Effective Date: 2020-03-15T10:00:00Z\n",
      "\n",
      "2. **Complete Blood Count (CBC)** (2021-06-20):\n",
      "   - Result: Hemoglobin: 13.5 g/dL, WBC: 6.2 x10^9/L, Platelets: 250 x10^9/L\n",
      "   - Reference Range: Hemoglobin: 12-16 g/dL, WBC: 4-11 x10^9/L, Platelets: 150-450 x10^9/L\n",
      "   - Sample Collection Date: 2021-06-20\n",
      "   - Code: 57021-8 (loinc), 3020004 (snomed)\n",
      "\n",
      "3. **CREATININE** (2024-08-26):\n",
      "   - Result: 0.9 mg/dL\n",
      "   - Reference Range: 0.6-1.1 mg/dL\n",
      "   - Sample Collection Date: 2024-08-26\n",
      "   - Code: 2160-0 (loinc), 1481-9 (snomed)\n",
      "\n",
      "4. **Hemoglobin A1c** (2023-09-15):\n",
      "   - Result: 7.2%\n",
      "   - Reference Range: 4.0-5.6%\n",
      "   - Sample Collection Date: 2023-09-15\n",
      "   - Code: 4548-4 (loinc), 3094-0 (snomed)\n",
      "\n",
      "5. **Bone Marrow Biopsy** (2021-02-15):\n",
      "   - Result: No evidence of metastasis\n",
      "   - Category: Hematology\n",
      "   - Code: 8648-8 (loinc)\n",
      "   - Effective Date: 2021-02-15T14:45:00Z\n",
      "\n",
      "6. **Chest X-ray** (2024-10-15):\n",
      "   - Result: No acute abnormalities detected\n",
      "   - Category: Radiology\n",
      "   - Code: Not specified\n",
      "   - Effective Date: 2024-10-15T10:30:00Z\n"
     ]
    }
   ],
   "source": [
    "response = charting_agent(\"give me his past tests\")\n",
    "print(response)"
   ]
  },
  {
   "cell_type": "code",
   "execution_count": null,
   "metadata": {},
   "outputs": [],
   "source": []
  }
 ],
 "metadata": {
  "kernelspec": {
   "display_name": "outcome",
   "language": "python",
   "name": "python3"
  },
  "language_info": {
   "codemirror_mode": {
    "name": "ipython",
    "version": 3
   },
   "file_extension": ".py",
   "mimetype": "text/x-python",
   "name": "python",
   "nbconvert_exporter": "python",
   "pygments_lexer": "ipython3",
   "version": "3.10.15"
  }
 },
 "nbformat": 4,
 "nbformat_minor": 2
}
