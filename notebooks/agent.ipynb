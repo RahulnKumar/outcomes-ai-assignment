{
 "cells": [
  {
   "cell_type": "code",
   "execution_count": 1,
   "metadata": {},
   "outputs": [],
   "source": [
    "import json"
   ]
  },
  {
   "cell_type": "code",
   "execution_count": 2,
   "metadata": {},
   "outputs": [],
   "source": [
    "import json\n",
    "from openai import OpenAI\n",
    "\n",
    "\n",
    "def invoke_llm(messages, cloud=\"sambanova\", temperature=0.7):\n",
    "\n",
    "    if cloud==\"openai\":\n",
    "        api_key = \"COYA AND FY\"\n",
    "        model = \"gpt-4o-mini\"\n",
    "    elif cloud==\"sambanova\":\n",
    "        model='Meta-Llama-3.1-70B-Instruct'\n",
    "        api_key=\"f10708c4-f9dc-499c-b90f-eeec5c17e630\"\n",
    "        base_url=\"https://api.sambanova.ai/v1\"\n",
    "\n",
    "    client = OpenAI(\n",
    "        api_key=api_key,\n",
    "        base_url=base_url,\n",
    "    )\n",
    "    output = client.chat.completions.create(\n",
    "                model = model,\n",
    "                messages = messages, temperature=temperature, max_tokens = 1000, top_p=0.9, stream = False,\n",
    "            )\n",
    "\n",
    "    response = output.choices[0].message.content\n",
    "\n",
    "    return response\n"
   ]
  },
  {
   "cell_type": "code",
   "execution_count": 11,
   "metadata": {},
   "outputs": [],
   "source": [
    "with open(\"/Users/rahul.kumar23/Drive/outcomes-ai-assignment/patients/patient_1_cleaned.json\", 'r') as f:\n",
    "    data = json.load(f)\n",
    "\n",
    "physician_instructions_prompt = \"give me recent diagnosis and test results\"\n",
    "patient_json_data = data"
   ]
  },
  {
   "cell_type": "code",
   "execution_count": 12,
   "metadata": {},
   "outputs": [],
   "source": [
    "system_prompt = \"You are a highly skilled medical assistant specializing in analyzing and summarizing patient records for physicians. Your task is to accurately extract and summarize important clinical information from the given patient details.\"\n",
    "user_prompt = \"\"\"Patient Historical Details\n",
    "{patient_json_data}\n",
    "\n",
    "\n",
    "Requirements:\n",
    "Extract key clinical information such as:\n",
    "\n",
    "Medical history\n",
    "Recent test results\n",
    "Medication changes\n",
    "Potential areas of concern\n",
    "Generate a summary that adheres to the physician’s requested structure and format.\n",
    "\n",
    "Respond to any specific queries asked by the physician regarding the patient's details or medical history.\n",
    "\n",
    "Be precise, concise, and factual. If you cannot find the requested information in the patient details, clearly state this.\n",
    "\n",
    "{physician_instructions_prompt}\n",
    "\n",
    "\"\"\"\n"
   ]
  },
  {
   "cell_type": "code",
   "execution_count": 13,
   "metadata": {},
   "outputs": [],
   "source": [
    "def charting_agent(physician_instructions_prompt):\n",
    "    messages = [\n",
    "                {\n",
    "                    \"role\": \"system\",\n",
    "                    \"content\": system_prompt\n",
    "                },\n",
    "                {\n",
    "                    \"role\":\"user\",\n",
    "                    \"content\" : user_prompt.format(patient_json_data=patient_json_data,\n",
    "                                                   physician_instructions_prompt=physician_instructions_prompt)\n",
    "                }\n",
    "                    ]\n",
    "    response = invoke_llm(messages)\n",
    "    return response"
   ]
  },
  {
   "cell_type": "code",
   "execution_count": 14,
   "metadata": {},
   "outputs": [
    {
     "name": "stdout",
     "output_type": "stream",
     "text": [
      "Based on the provided patient details, here are the past tests results:\n",
      "\n",
      "1. **Complete Blood Count (CBC)**: Normal, as of March 15, 2021 (Source: labs_0)\n",
      "2. **Hemoglobin A1c**: 6.8%, above the normal range, as of January 10, 2022 (Source: labs_1)\n",
      "3. **Creatinine level**: 1.1 mg/dL, within the normal range (0.6-1.2 mg/dL), no specific date mentioned (Source: labs_2)\n",
      "4. **Liver Function Test**: Elevated levels of AST and ALT, indicating potential liver damage, as of June 1, 2021 (Source: labs_3)\n",
      "5. **Biopsy**: Diagnosis confirmed as non-small cell lung carcinoma, as of February 20, 2020 (Source: procedures_0)\n",
      "6. **Chest CT Scan**: No evidence of metastasis, no new lesions detected, as of May 15, 2021 (Source: procedures_1)\n",
      "7. **MRI**: Normal post-operative findings, tumor successfully resected, no specific date mentioned (Source: procedures_2)\n",
      "8. **White blood cells count**: 4.5 * 10^3/uL, as of June 1, 2021, 12:00 PM (Source: visits_2)\n",
      "9. **Hemoglobin level**: 13.5 g/dL, as of April 10, 2021 (Source: visits_1)\n",
      "\n",
      "Please note that this list might not be exhaustive, as the provided patient details are extensive, and some test results might be mentioned in other sections.\n"
     ]
    }
   ],
   "source": [
    "response = charting_agent(\"give me his past tests\")\n",
    "print(response)"
   ]
  },
  {
   "cell_type": "code",
   "execution_count": null,
   "metadata": {},
   "outputs": [],
   "source": []
  }
 ],
 "metadata": {
  "kernelspec": {
   "display_name": "outcome",
   "language": "python",
   "name": "python3"
  },
  "language_info": {
   "codemirror_mode": {
    "name": "ipython",
    "version": 3
   },
   "file_extension": ".py",
   "mimetype": "text/x-python",
   "name": "python",
   "nbconvert_exporter": "python",
   "pygments_lexer": "ipython3",
   "version": "3.10.15"
  }
 },
 "nbformat": 4,
 "nbformat_minor": 2
}
